{
 "cells": [
  {
   "cell_type": "code",
   "execution_count": 5,
   "id": "1751c1f2-6f09-4268-a745-c4fb422f2525",
   "metadata": {},
   "outputs": [],
   "source": [
    "import \"fmt\"\n",
    "\n",
    "func main() {\n",
    "    i:= 42\n",
    "    p:= &i\n",
    "    fmt.Println(*p)\n",
    "    *p=43\n",
    "    fmt.Println(*p)\n",
    "    }"
   ]
  },
  {
   "cell_type": "code",
   "execution_count": null,
   "id": "5fe4eaa6-1e0e-4d77-9f4b-0f91ac380437",
   "metadata": {},
   "outputs": [],
   "source": []
  },
  {
   "cell_type": "code",
   "execution_count": null,
   "id": "bd3e30a7-9c86-480b-954c-e424a9f96546",
   "metadata": {},
   "outputs": [],
   "source": []
  },
  {
   "cell_type": "code",
   "execution_count": null,
   "id": "121b340e-0af7-409c-9d43-9514dfa6760f",
   "metadata": {},
   "outputs": [],
   "source": []
  },
  {
   "cell_type": "code",
   "execution_count": null,
   "id": "9699092e-678b-403c-b8b9-6ee5849945e9",
   "metadata": {},
   "outputs": [],
   "source": []
  }
 ],
 "metadata": {
  "kernelspec": {
   "display_name": "Go",
   "language": "go",
   "name": "gophernotes"
  },
  "language_info": {
   "codemirror_mode": "",
   "file_extension": ".go",
   "mimetype": "",
   "name": "go",
   "nbconvert_exporter": "",
   "pygments_lexer": "",
   "version": "go1.24.1"
  }
 },
 "nbformat": 4,
 "nbformat_minor": 5
}
