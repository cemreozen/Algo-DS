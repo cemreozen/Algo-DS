{
 "cells": [
  {
   "cell_type": "markdown",
   "metadata": {},
   "source": [
    "### Aufgabe \n",
    "\n",
    "Implementieren Sie (randomisiertes) Quicksort (inplace) in go.\n",
    "\n",
    "Hinweise:\n",
    "- Sie können zur Auswahl einer gleichverteilten Zufallszahl `rand.Intn` verwenden.\n",
    "\n"
   ]
  },
  {
   "cell_type": "code",
   "execution_count": 12,
   "metadata": {
    "slideshow": {
     "slide_type": "slide"
    }
   },
   "outputs": [],
   "source": [
    "func QuickSorter(arr []int) {\n",
    "    quickSort(arr, 0, len(arr)-1)\n",
    "}"
   ]
  },
  {
   "cell_type": "code",
   "execution_count": 24,
   "metadata": {
    "slideshow": {
     "slide_type": "slide"
    }
   },
   "outputs": [
    {
     "name": "stdout",
     "output_type": "stream",
     "text": [
      "Sorting took %s 5.180409ms\n",
      "Number of comparisions %s 9810\n"
     ]
    },
    {
     "data": {
      "text/plain": [
       "31 <nil>"
      ]
     },
     "execution_count": 24,
     "metadata": {},
     "output_type": "execute_result"
    }
   ],
   "source": [
    "//comp := 0\n",
    "a := rand.Perm(999)\n",
    "start := time.Now()\n",
    "QuickSorter(a)\n",
    "elapsed := time.Since(start)\n",
    "fmt.Println(\"Sorting took %s\", elapsed)\n",
    "//fmt.Println(\"Number of comparisions %s\", comp)"
   ]
  },
  {
   "cell_type": "code",
   "execution_count": null,
   "metadata": {},
   "outputs": [],
   "source": []
  }
 ],
 "metadata": {
  "celltoolbar": "Slideshow",
  "kernelspec": {
   "display_name": "Go",
   "language": "go",
   "name": "gophernotes"
  },
  "language_info": {
   "codemirror_mode": "",
   "file_extension": ".go",
   "mimetype": "",
   "name": "go",
   "nbconvert_exporter": "",
   "pygments_lexer": "",
   "version": "go1.15.2"
  }
 },
 "nbformat": 4,
 "nbformat_minor": 4
}
