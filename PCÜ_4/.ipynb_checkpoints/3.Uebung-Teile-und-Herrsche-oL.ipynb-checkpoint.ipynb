{
 "cells": [
  {
   "cell_type": "markdown",
   "id": "ae6f9c1b",
   "metadata": {},
   "source": [
    "### Aufgabe 1\n",
    "\n",
    "Betrachten Sie folgende Funktionen zum Berechnen der Potenz:\n",
    "\n",
    "\n",
    "#### `PowerV1`\n",
    "\n",
    "**Input**: positiv  integers $a$ and $b$     \n",
    "**Output**: $a^b$  \n",
    "***\n",
    "**if** $b = 1$ **then**   \n",
    "  &emsp;return $a$      \n",
    "**else**   \n",
    "  &emsp;return $a \\cdot$ `PowerV1`$\\left(a, b-1\\right)$      \n",
    "\n",
    "\n"
   ]
  },
  {
   "cell_type": "markdown",
   "id": "5ba86a47",
   "metadata": {
    "slideshow": {
     "slide_type": "slide"
    }
   },
   "source": [
    "#### `PowerV2`\n",
    "\n",
    "**Input**: positiv  integers $a$ and $b$     \n",
    "**Output**: $a^b$  \n",
    "***\n",
    "**if** $b = 1$ **then**   \n",
    "  &emsp;return $a$    \n",
    "**else**   \n",
    "  &emsp;$c:=a\\cdot a$   \n",
    "  &emsp;$ans :=$ `PowerV2`$\\left(c,\\lfloor b/2 \\rfloor\\right)$    \n",
    "**if** $b$ is odd **then**   \n",
    "  &emsp;return $a \\cdot ans$    \n",
    "**else**    \n",
    "  &emsp;return $ans$\n",
    "  \n",
    "Die Notation $\\lfloor x \\rfloor$ steht für die *floor*-Funktion, die den Wert zur nächsten Ganzzahl abrundet."
   ]
  },
  {
   "cell_type": "markdown",
   "id": "a68cfc6a",
   "metadata": {},
   "source": [
    "Nehmen Sie an, dass jede Multiplikation und Division in konstanter Zeit durchgeführt wird.\n",
    "\n",
    "Erklären Sie die Funktionsweise der Algorithmen.\n",
    "\n",
    "Wie ist die asymptotische Laufzeit der beiden Algorithmus als Funktion von $b$?\n",
    "\n",
    "1. $\\Theta(\\sqrt b)$\n",
    "2. $\\Theta(b \\log b)$\n",
    "3. $\\Theta(b)$ \n",
    "4. $\\Theta(\\log b)$\n",
    "5. $\\Theta(b^2)$\n",
    "\n",
    "Begründen Sie Ihre Antwort."
   ]
  },
  {
   "cell_type": "markdown",
   "id": "e314d1cd",
   "metadata": {},
   "source": [
    "### Aufgabe 2\n",
    "\n",
    "Sie erhalten als Input ein unimodales Array mit $n$-Elementen. In einem unimodalen Array wachsen zuerst die Werte der Elemente mit zunehmenden Index bis zu einem Maximalwert. Danach fallen die Werte wieder monoton.\n",
    "\n",
    "Beispiel für unimodales Arrays:\n",
    "\n",
    "| 2 | 4 | 5 | 9 | 7 | 4 | 3 | 1 |\n",
    "---\n",
    "\n",
    "Geben Sie einen Algorithmus an, der das größte Element in einem unimodalen Array findet. Die asymptotische Laufzeit Ihres Algorithmus sollte $O(\\log n)$ sein?"
   ]
  },
  {
   "cell_type": "markdown",
   "id": "134d3de2",
   "metadata": {},
   "source": [
    "### Aufgabe 3\n",
    "\n",
    "Implementieren Sie in go den `CountInv`-Algorithmus (Laufzeit: $O(n \\log n)$. Ihre Implementierung sollte mit Arrays beliebiger Länge zurechtkommen.\n",
    "\n",
    "Hinweis: Nutzen Sie als Ausgangspunkt ihre `MergeSort`-Implementierung."
   ]
  },
  {
   "cell_type": "code",
   "execution_count": 112,
   "id": "0408db00",
   "metadata": {},
   "outputs": [],
   "source": [
    "// Beispiele zum Testen\n",
    "\n",
    "q1 := []int{0,1,2,3,4,5,6,7,8,9} // 0 inversions \n",
    "q2 := []int{8,7,6,5,4,3,2,1} // 28\n",
    "q3 := []int{54044, 14108, 79294, 29649, 25260, 60660, 2995, 53777, 49689, 9083} // 28 inversions\n",
    "q4 := []int{0,1,12,11,4,5,6,10,8,9} // 15 inversions "
   ]
  },
  {
   "cell_type": "code",
   "execution_count": 113,
   "id": "30ffd2c6",
   "metadata": {},
   "outputs": [
    {
     "data": {
      "text/plain": [
       "[0 1 4 5 6 8 9 10 11 12] 15"
      ]
     },
     "execution_count": 113,
     "metadata": {},
     "output_type": "execute_result"
    }
   ],
   "source": [
    "SortAndCountInv(q4)"
   ]
  }
 ],
 "metadata": {
  "celltoolbar": "Slideshow",
  "kernelspec": {
   "display_name": "Go",
   "language": "go",
   "name": "gophernotes"
  },
  "language_info": {
   "codemirror_mode": "",
   "file_extension": ".go",
   "mimetype": "",
   "name": "go",
   "nbconvert_exporter": "",
   "pygments_lexer": "",
   "version": "go1.15.2"
  }
 },
 "nbformat": 4,
 "nbformat_minor": 5
}
