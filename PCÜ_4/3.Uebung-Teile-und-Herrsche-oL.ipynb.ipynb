{
 "cells": [
  {
   "cell_type": "markdown",
   "id": "ae6f9c1b",
   "metadata": {},
   "source": [
    "### Aufgabe 1\n",
    "\n",
    "Betrachten Sie folgende Funktionen zum Berechnen der Potenz:\n",
    "\n",
    "\n",
    "#### `PowerV1`\n",
    "\n",
    "**Input**: positiv  integers $a$ and $b$     \n",
    "**Output**: $a^b$  \n",
    "***\n",
    "**if** $b = 1$ **then**   \n",
    "  &emsp;return $a$      \n",
    "**else**   \n",
    "  &emsp;return $a \\cdot$ `PowerV1`$\\left(a, b-1\\right)$      \n",
    "\n",
    "\n"
   ]
  },
  {
   "cell_type": "markdown",
   "id": "5ba86a47",
   "metadata": {
    "slideshow": {
     "slide_type": "slide"
    }
   },
   "source": [
    "#### `PowerV2`\n",
    "\n",
    "**Input**: positiv  integers $a$ and $b$     \n",
    "**Output**: $a^b$  \n",
    "***\n",
    "**if** $b = 1$ **then**   \n",
    "  &emsp;return $a$    \n",
    "**else**   \n",
    "  &emsp;$c:=a\\cdot a$   \n",
    "  &emsp;$ans :=$ `PowerV2`$\\left(c,\\lfloor b/2 \\rfloor\\right)$    \n",
    "**if** $b$ is odd **then**   \n",
    "  &emsp;return $a \\cdot ans$    \n",
    "**else**    \n",
    "  &emsp;return $ans$\n",
    "  \n",
    "Die Notation $\\lfloor x \\rfloor$ steht für die *floor*-Funktion, die den Wert zur nächsten Ganzzahl abrundet."
   ]
  },
  {
   "cell_type": "markdown",
   "id": "a68cfc6a",
   "metadata": {},
   "source": [
    "Nehmen Sie an, dass jede Multiplikation und Division in konstanter Zeit durchgeführt wird.\n",
    "\n",
    "Erklären Sie die Funktionsweise der Algorithmen.\n",
    "Die Funktionsweise des ersten Algorithmus: wenn b = 1 ist, wird a zurückgegeben. In anderen Fällen findet ein rekursiver Funktionsaufruf statt mit dem Faktor a. Die Funktion wird mit a hoch b -1 aufgerufen, was dazu führt. Im Endeffekt wird a b mal mit a multipliziert.\n",
    "\n",
    "V2:\n",
    "\n",
    "\n",
    "Wie ist die asymptotische Laufzeit der beiden Algorithmus als Funktion von $b$?\n",
    "\n",
    "1. $\\Theta(\\sqrt b)$\n",
    "2. $\\Theta(b \\log b)$\n",
    "3. $\\Theta(b)$ \n",
    "4. $\\Theta(\\log b)$\n",
    "5. $\\Theta(b^2)$\n",
    "\n",
    "Begründen Sie Ihre Antwort.\n",
    "v1: $\\Theta(b²)$, da zb für b = 2 die methode in 4 schritten ein ergebnis liefert.\n",
    "\n"
   ]
  },
  {
   "cell_type": "markdown",
   "id": "e314d1cd",
   "metadata": {},
   "source": [
    "### Aufgabe 2\n",
    "\n",
    "Sie erhalten als Input ein unimodales Array mit $n$-Elementen. In einem unimodalen Array wachsen zuerst die Werte der Elemente mit zunehmenden Index bis zu einem Maximalwert. Danach fallen die Werte wieder monoton.\n",
    "\n",
    "Beispiel für unimodales Arrays:\n",
    "\n",
    "| 2 | 4 | 5 | 9 | 7 | 4 | 3 | 1 |\n",
    "---\n",
    "\n",
    "Geben Sie einen Algorithmus an, der das größte Element in einem unimodalen Array findet. Die asymptotische Laufzeit Ihres Algorithmus sollte $O(\\log n)$ sein?"
   ]
  },
  {
   "cell_type": "code",
   "execution_count": 4,
   "id": "46ae0d3f-0fda-468f-ab87-6ff4e65990a4",
   "metadata": {},
   "outputs": [
    {
     "ename": "ERROR",
     "evalue": "repl.go:12:5: expected statement, found 'else' (and 1 more errors)",
     "output_type": "error",
     "traceback": [
      "repl.go:12:5: expected statement, found 'else' (and 1 more errors)"
     ]
    }
   ],
   "source": [
    "import \"fmt\"\n",
    "\n",
    "func unimodalMax(u []int) int {\n",
    "    if (len(u) == 1) {\n",
    "        return u[0]\n",
    "        }\n",
    "    \n",
    "    mitte := len(u)/2\n",
    "    if (u[mitte] < u[mitte-1]) {\n",
    "        unimodalMax(u[:mitte-1])\n",
    "        }\n",
    "    else {\n",
    "        unimodalMax(u[mitte:])\n",
    "        }\n",
    "    }\n",
    "\n",
    "func main() {\n",
    "    u := []int {2, 4, 5, 9, 7, 4, 3, 1}\n",
    "    result := unimodalMax(u)\n",
    "    fmt.Print(u)\n",
    "    }\n",
    "    \n"
   ]
  },
  {
   "cell_type": "markdown",
   "id": "134d3de2",
   "metadata": {},
   "source": [
    "### Aufgabe 3\n",
    "\n",
    "Implementieren Sie in go den `CountInv`-Algorithmus (Laufzeit: $O(n \\log n)$. Ihre Implementierung sollte mit Arrays beliebiger Länge zurechtkommen.\n",
    "\n",
    "Hinweis: Nutzen Sie als Ausgangspunkt ihre `MergeSort`-Implementierung."
   ]
  },
  {
   "cell_type": "code",
   "execution_count": 2,
   "id": "0408db00",
   "metadata": {},
   "outputs": [],
   "source": [
    "// Beispiele zum Testen\n",
    "\n",
    "q1 := []int{0,1,2,3,4,5,6,7,8,9} // 0 inversions \n",
    "q2 := []int{8,7,6,5,4,3,2,1} // 28\n",
    "q3 := []int{54044, 14108, 79294, 29649, 25260, 60660, 2995, 53777, 49689, 9083} // 28 inversions\n",
    "q4 := []int{0,1,12,11,4,5,6,10,8,9} // 15 inversions "
   ]
  },
  {
   "cell_type": "code",
   "execution_count": 3,
   "id": "30ffd2c6",
   "metadata": {},
   "outputs": [
    {
     "ename": "ERROR",
     "evalue": "repl.go:1:1: undefined identifier: SortAndCountInv",
     "output_type": "error",
     "traceback": [
      "repl.go:1:1: undefined identifier: SortAndCountInv"
     ]
    }
   ],
   "source": [
    "import \"fmt\"\n",
    "\n",
    "func MergeSort(items []int) []int {\n",
    "    if len(items) < 2 {\n",
    "        return items\n",
    "        }\n",
    "    links := MergeSort(items[:len(items)/2])\n",
    "    rechts := Mergesort(items[len(items)/2:])\n",
    "    return merge(first, second)\n",
    "    }\n",
    "\n",
    "func merge(a []int, b []int) []int {\n",
    "    final := []int {}\n",
    "    i := 0\n",
    "    j := 0\n",
    "    for i < len\n",
    "\n",
    "\n",
    "        \n",
    "\n",
    "func SortAndCountInv(( {\n",
    "    \n",
    "    \n",
    "}\n",
    "SortAndCountInv(q4)\n"
   ]
  },
  {
   "cell_type": "code",
   "execution_count": null,
   "id": "32262f69-da54-4382-9293-f61469284299",
   "metadata": {},
   "outputs": [],
   "source": []
  }
 ],
 "metadata": {
  "celltoolbar": "Slideshow",
  "kernelspec": {
   "display_name": "Go",
   "language": "go",
   "name": "gophernotes"
  },
  "language_info": {
   "codemirror_mode": "",
   "file_extension": ".go",
   "mimetype": "",
   "name": "go",
   "nbconvert_exporter": "",
   "pygments_lexer": "",
   "version": "go1.24.1"
  }
 },
 "nbformat": 4,
 "nbformat_minor": 5
}
