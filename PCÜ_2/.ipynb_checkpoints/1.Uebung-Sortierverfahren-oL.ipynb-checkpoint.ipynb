{
 "cells": [
  {
   "cell_type": "code",
   "execution_count": 1,
   "metadata": {},
   "outputs": [],
   "source": [
    "import (\n",
    "    \"fmt\"\n",
    "    \"math/rand\"\n",
    "    \"time\"\n",
    ")"
   ]
  },
  {
   "cell_type": "markdown",
   "metadata": {},
   "source": [
    "### Aufgabe 1 (Recherche)\n",
    "\n",
    "Studieren Sie die naiven Verfahren Selection Sort, Insertion Sort und Bubble Sort.\n",
    "\n",
    "Lesen Sie hierzu https://hpi.de/friedrich/teaching/units/einfache-sortierverfahren.html.\n",
    "\n",
    "- Was bedeutet dabei in-place?\n",
    "- Wie ist die Laufzeit der Algorithmen in O-Notation?  "
   ]
  },
  {
   "cell_type": "markdown",
   "metadata": {},
   "source": [
    "### Aufgabe 2\n",
    "\n",
    "Implementieren Sie Insertion Sort in go.\n"
   ]
  },
  {
   "cell_type": "code",
   "execution_count": 13,
   "metadata": {},
   "outputs": [],
   "source": [
    "func insertionSort(array []int) []int{\n",
    "        i := 1\n",
    "        j := 0\n",
    "        length := len(array) - 1\n",
    "        for i <= length {\n",
    "                element := array[i]\n",
    "                j = i\n",
    "                for j > 0 && array[j-1] > element {\n",
    "                        array[j] = array[j-1]\n",
    "                        j = j - 1\n",
    "                }\n",
    "                array[j] = element\n",
    "                i = i + 1\n",
    "        }\n",
    "    return array\n",
    "}"
   ]
  },
  {
   "cell_type": "code",
   "execution_count": 14,
   "metadata": {},
   "outputs": [
    {
     "ename": "ERROR",
     "evalue": "repl.go:2:6: undefined \"rand\" in rand.Perm <*ast.SelectorExpr>",
     "output_type": "error",
     "traceback": [
      "repl.go:2:6: undefined \"rand\" in rand.Perm <*ast.SelectorExpr>"
     ]
    }
   ],
   "source": [
    "a := rand.Perm(40000)\n",
    "start := time.Now()\n",
    "sorted := InsertionSort(a)\n",
    "elapsed := time.Since(start)\n",
    "fmt.Println(\"Sorting took %s\", elapsed)\n",
    "sorted[60:100]"
   ]
  },
  {
   "cell_type": "markdown",
   "metadata": {},
   "source": [
    "### Aufgabe 3: Merge-Sort\n",
    "\n",
    "#### 3.1 Verständnisfrage\n",
    "\n",
    "*MergeSort* wird auf folgendes Input-Array angewandt:\n",
    "\n",
    "$$[6,5,3,1,9,0,8,7,2,4]$$\n",
    "\n",
    " Welche Zahl steht vor dem letzten Merge und \n",
    "nach dem Zurückspringen der letzten Rekursionen an 7ter-Position (Start der Nummerierung mit 1).\n",
    "Denken Sie sich die beiden (noch nicht zusammen-sortierten) 5-er Teilarrays als ein Gesamtarray."
   ]
  },
  {
   "cell_type": "markdown",
   "metadata": {},
   "source": [
    "#### 3.2 Verständnisfrage\n",
    "\n",
    "Durchdenken Sie folgende Modifikation von Merge-Sort:\n",
    "\n",
    "- Die Teilarrays ergeben sich durch Drittelungen des Gesamtarrays. \n",
    "- Beim Merge werden also drei Arrays miteinander (sortiert) verschmolzen.\n",
    "\n",
    "\n",
    "1. Wie sieht der Pseudocode der Merge Operation aus? \n",
    "2. Wie ist die Laufzeit des Algorithmus, wenn Sie konstate Terme und Terme niedriger Ordnung als die höchste Ordnung ignorieren."
   ]
  },
  {
   "cell_type": "markdown",
   "metadata": {},
   "source": [
    "#### 3.3. Verständnisfrage\n",
    "\n",
    "Gegeben sind $k$ sortierte Arrays der Länge $n$.\n",
    "\n",
    " 1. mit der Merge-Subroutine werden zuerst die ersten beiden Array (sortiert) verschmolzen.\n",
    " 2. Dann wird das Ergebnis (aus 1) mit dem dritten sortierten Array verschmolzen usw. bis man am Ende ein sortiertes Array mit $kn$-Elementen hat.\n",
    " \n",
    " Wie ist die Laufzeit bei obigen Vorgehen?"
   ]
  },
  {
   "cell_type": "markdown",
   "metadata": {},
   "source": [
    "#### 3.3. Verständnisfrage\n",
    "\n",
    "Gegeben sind $k$ sortierte Arrays der Länge $n$.\n",
    "\n",
    " 1. Es werden $\\frac{k}{2}$-Paare  gebildet und die Paare mit der Merge-Subroutine verschmolzen.\n",
    " 2. Dann werden wieder Paare (Anzahl $\\frac{k}{4}$) aus den verschlzenen Arrays gebildet und diese ebenfalls verscholzen. Dies solange durchgeführt bis man am Ende ein sortiertes Array mit $kn$-Elementen hat.\n",
    "\n",
    " Wie ist die Laufzeit bei obigen Vorgehen?"
   ]
  },
  {
   "cell_type": "markdown",
   "metadata": {},
   "source": [
    "In jendem Schritt $O(nk)$-Operationen bei $\\log_2(k)$-Schritten, d.h. Laufzeit ist $O(nk \\log k)$."
   ]
  },
  {
   "cell_type": "markdown",
   "metadata": {},
   "source": [
    "#### 3.2 Implementierung in go\n",
    "\n",
    "Implementieren Sie Merge-Sort (ohne Recherche im Netz!).\n",
    "\n",
    "Hinweis: Implementieren Sie zwei Routinen:\n",
    "\n",
    "Mergesort: *Rekursives* Teilen des Inputarrays in zwei (fast) gleichgroße Arrays bis diese die Länge ≤1 haben.\n",
    "\n",
    "Merge: Verschmelzen zweier geordneter Teilarrays (input der Funktion) zu einer geordneten Liste (output der Funktion).\n",
    "\n",
    "Zum Pseudocode der Funktionen siehe seminaristischer Unterricht.\n",
    "\n",
    "Testen Sie Ihre Implementierung an geeigneten Daten."
   ]
  },
  {
   "cell_type": "code",
   "execution_count": 23,
   "metadata": {},
   "outputs": [
    {
     "ename": "ERROR",
     "evalue": "repl.go:15:12: incompatible types in assignment: []int = [10]int",
     "output_type": "error",
     "traceback": [
      "repl.go:15:12: incompatible types in assignment: []int = [10]int"
     ]
    }
   ],
   "source": [
    "func merge(c []int, d []int) []int {\n",
    "    i := 0\n",
    "    j := 0\n",
    "    k := 0\n",
    "    lenc := len(c)\n",
    "    lend := len(d)\n",
    "    var new_array [\n",
    "    for i < len(c) && j < len(d) {\n",
    "        if (c[i] <= d[i]) {\n",
    "            new_array[k] = c[i]\n",
    "            }\n",
    "        new_array[k] = d[j]\n",
    "        k++\n",
    "        }\n",
    "    return new_array\n",
    "    }"
   ]
  },
  {
   "cell_type": "code",
   "execution_count": 11,
   "metadata": {},
   "outputs": [],
   "source": [
    "func MergeSort(inp []int) []int {\n",
    "    panic(\"mergeSort not implemented\")\n",
    "}"
   ]
  },
  {
   "cell_type": "code",
   "execution_count": 24,
   "metadata": {},
   "outputs": [
    {
     "name": "stdout",
     "output_type": "stream",
     "text": [
      "Sorting took %s 11.767363ms\n"
     ]
    },
    {
     "data": {
      "text/plain": [
       "28 <nil>"
      ]
     },
     "execution_count": 24,
     "metadata": {},
     "output_type": "execute_result"
    }
   ],
   "source": [
    "a := rand.Perm(999)\n",
    "start := time.Now()\n",
    "sorted := MergeSort(a)\n",
    "elapsed := time.Since(start)\n",
    "fmt.Println(\"Sorting took %s\", elapsed)"
   ]
  },
  {
   "cell_type": "code",
   "execution_count": 25,
   "metadata": {},
   "outputs": [
    {
     "data": {
      "text/plain": [
       "[60 61 62 63 64 65 66 67 68 69 70 71 72 73 74 75 76 77 78 79 80 81 82 83 84 85 86 87 88 89 90 91 92 93 94 95 96 97 98 99]"
      ]
     },
     "execution_count": 25,
     "metadata": {},
     "output_type": "execute_result"
    }
   ],
   "source": [
    "sorted[60:100]"
   ]
  },
  {
   "cell_type": "markdown",
   "metadata": {},
   "source": [
    "#### 3.3 Laufzeit\n",
    "\n",
    "Wie ist die Laufzeit von Mergesort in der O-Notation?\n",
    "\n",
    "Vergleichen Sie die gemessenen Laufzeiten von Merge-Sort und Insertion-Sort für \n",
    "1000, 10000, 20000 und 40000 Elementen. Entspricht dies Ihrer Erwartung (in Bezug auf die \n",
    "O-Notation)? Welche Läufzeit erwarten Sie für 400000 Elemente?"
   ]
  }
 ],
 "metadata": {
  "celltoolbar": "Slideshow",
  "kernelspec": {
   "display_name": "Go",
   "language": "go",
   "name": "gophernotes"
  },
  "language_info": {
   "codemirror_mode": "",
   "file_extension": ".go",
   "mimetype": "",
   "name": "go",
   "nbconvert_exporter": "",
   "pygments_lexer": "",
   "version": "go1.24.1"
  }
 },
 "nbformat": 4,
 "nbformat_minor": 4
}
